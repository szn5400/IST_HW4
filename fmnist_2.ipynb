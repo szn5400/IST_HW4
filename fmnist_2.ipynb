{
 "cells": [
  {
   "cell_type": "code",
   "execution_count": 23,
   "id": "024eeab8",
   "metadata": {},
   "outputs": [],
   "source": [
    "import os\n",
    "import numpy as np\n",
    "import time\n",
    "import tensorflow as tf\n",
    "from tensorflow import keras\n",
    "\n",
    "import matplotlib.pyplot as plt\n",
    "\n",
    "\n",
    "np.random.seed(1234)\n",
    "tf.random.set_seed(1234)"
   ]
  },
  {
   "cell_type": "code",
   "execution_count": 24,
   "id": "d52800a1",
   "metadata": {},
   "outputs": [
    {
     "data": {
      "text/plain": [
       "[]"
      ]
     },
     "execution_count": 24,
     "metadata": {},
     "output_type": "execute_result"
    }
   ],
   "source": [
    "tf.config.list_physical_devices('GPU')"
   ]
  },
  {
   "cell_type": "code",
   "execution_count": 25,
   "id": "31cb5865",
   "metadata": {},
   "outputs": [
    {
     "data": {
      "image/png": "[encoded data removed]",
      "text/plain": [
       "<Figure size 432x288 with 3 Axes>"
      ]
     },
     "metadata": {
      "needs_background": "light"
     },
     "output_type": "display_data"
    }
   ],
   "source": [
    "(X_train, y_train), (X_test, y_test) = keras.datasets.fashion_mnist.load_data() # Load MNIST or FMNIST\n",
    "assert X_train.shape == (60000, 28, 28)\n",
    "assert X_test.shape == (10000, 28, 28)\n",
    "assert y_train.shape == (60000,)\n",
    "assert y_test.shape == (10000,)\n",
    "\n",
    "\n",
    "# Display randomly selected data\n",
    "indices = list(np.random.randint(X_train.shape[0],size=3))\n",
    "for i in range(3):\n",
    "    plt.subplot(1,3,i+1)\n",
    "    plt.imshow(X_train[indices[i]].reshape(28,28), cmap='gray', interpolation='none')\n",
    "    plt.title(\"Index {} Class {}\".format(indices[i], y_train[indices[i]]))\n",
    "    plt.tight_layout()"
   ]
  },
  {
   "cell_type": "code",
   "execution_count": 26,
   "id": "5accd1f9",
   "metadata": {},
   "outputs": [
    {
     "name": "stdout",
     "output_type": "stream",
     "text": [
      "size of training set is 50000 samples\n",
      "every train example is 28 by 28\n",
      "size of validation set is 10000 samples\n",
      "every validation example is 28 by 28\n",
      "size of training set is 50000 samples\n",
      "every train example has 784 features\n",
      "size of validation set is 10000 samples\n",
      "every validation example has 784 features\n"
     ]
    }
   ],
   "source": [
    "# Split train dataset into train and validation\n",
    "X_val = X_train[50000:60000]\n",
    "X_train = X_train[0:50000]\n",
    "y_val = y_train[50000:60000]\n",
    "y_train = y_train[0:50000]\n",
    "\n",
    "print(\"size of training set is\", str(X_train.shape[0]), \"samples\")\n",
    "print(\"every train example is\", str(X_train.shape[1]), \"by\", str(X_train.shape[2]))\n",
    "\n",
    "print(\"size of validation set is\", str(X_val.shape[0]), \"samples\")\n",
    "print(\"every validation example is\", str(X_val.shape[1]), \"by\", str(X_val.shape[2]))\n",
    "\n",
    "X_train = X_train.reshape(50000, 28*28)\n",
    "X_val = X_val.reshape(10000, 28*28)\n",
    "X_test = X_test.reshape(10000, 28*28)\n",
    "\n",
    "print(\"size of training set is\", str(X_train.shape[0]), \"samples\")\n",
    "print(\"every train example has\", str(X_train.shape[1]), \"features\")\n",
    "\n",
    "print(\"size of validation set is\", str(X_val.shape[0]), \"samples\")\n",
    "print(\"every validation example has\", str(X_val.shape[1]), \"features\")\n",
    "\n",
    "# Split dataset into batches\n",
    "#train_ds = tf.data.Dataset.from_tensor_slices((X_train, y_train)).batch(16)\n",
    "#test_ds = tf.data.Dataset.from_tensor_slices((X_test, y_test)).batch(4)"
   ]
  },
  {
   "cell_type": "code",
   "execution_count": 27,
   "id": "3fe9143e",
   "metadata": {},
   "outputs": [
    {
     "data": {
      "text/plain": [
       "1.0"
      ]
     },
     "execution_count": 27,
     "metadata": {},
     "output_type": "execute_result"
    }
   ],
   "source": [
    "#Normalize Data\n",
    "\n",
    "X_train = X_train/255\n",
    "X_val = X_val/255\n",
    "X_test = X_test/255\n",
    "# X_train[0]\n",
    "\n",
    "np.max(X_train)"
   ]
  },
  {
   "cell_type": "code",
   "execution_count": 28,
   "id": "ce2a6792",
   "metadata": {},
   "outputs": [
    {
     "name": "stdout",
     "output_type": "stream",
     "text": [
      "tf.Tensor([10000    10], shape=(2,), dtype=int32)\n"
     ]
    }
   ],
   "source": [
    "size_input = X_train.shape[1]\n",
    "size_hidden1 = 128\n",
    "size_hidden2 = 128\n",
    "size_hidden3 = 128\n",
    "size_output = 10\n",
    "\n",
    "number_of_train_examples = X_train.shape[0]\n",
    "number_of_test_examples = X_test.shape[0]\n",
    "\n",
    "y_train = tf.keras.utils.to_categorical(y_train, num_classes=10) # Other function is tf.one_hot(y_train,depth=10)\n",
    "y_val = tf.keras.utils.to_categorical(y_val, num_classes=10)\n",
    "y_test = tf.keras.utils.to_categorical(y_test, num_classes=10)\n",
    "print(tf.shape(y_val))"
   ]
  },
  {
   "cell_type": "code",
   "execution_count": 29,
   "id": "ca67c193",
   "metadata": {},
   "outputs": [],
   "source": [
    "# Define class to build mlp model\n",
    "class MLP(object):\n",
    " def __init__(self, size_input, size_hidden1, size_hidden2, size_hidden3, size_output, device=None):\n",
    "    \"\"\"\n",
    "    size_input: int, size of input layer\n",
    "    size_hidden1: int, size of the 1st hidden layer\n",
    "    size_hidden2: int, size of the 2nd hidden layer\n",
    "    size_output: int, size of output layer\n",
    "    device: str or None, either 'cpu' or 'gpu' or None. If None, the device to be used will be decided automatically during Eager Execution\n",
    "    \"\"\"\n",
    "    self.size_input, self.size_hidden1, self.size_hidden2, self.size_hidden3, self.size_output, self.device =\\\n",
    "    size_input, size_hidden1, size_hidden2, size_hidden3, size_output, device\n",
    "    \n",
    "    # Initialize weights between input mapping and a layer g(f(x)) = layer\n",
    "    self.W1 = tf.Variable(tf.random.normal([self.size_input, self.size_hidden1],stddev=0.1)) # Xavier(Fan-in fan-out) and Orthogonal\n",
    "    # Initialize biases for hidden layer\n",
    "    self.b1 = tf.Variable(tf.zeros([1, self.size_hidden1])) # 0 or constant(0.01)\n",
    "    \n",
    "    # Initialize weights between input layer and 1st hidden layer\n",
    "    self.W2 = tf.Variable(tf.random.normal([self.size_hidden1, self.size_hidden2],stddev=0.1))\n",
    "    # Initialize biases for hidden layer\n",
    "    self.b2 = tf.Variable(tf.zeros([1, self.size_hidden2]))\n",
    "    \n",
    "    # Initialize weights between 1st hidden layer and 2nd hidden layer\n",
    "    self.W3 = tf.Variable(tf.random.normal([self.size_hidden2, self.size_hidden3],stddev=0.1))\n",
    "    # Initialize biases for hidden layer\n",
    "    self.b3 = tf.Variable(tf.zeros([1, self.size_hidden3]))\n",
    "    \n",
    "     # Initialize weights between 2nd hidden layer and output layer\n",
    "    self.W4 = tf.Variable(tf.random.normal([self.size_hidden3, self.size_output],stddev=0.1))\n",
    "    # Initialize biases for output layer\n",
    "    self.b4 = tf.Variable(tf.zeros([1, self.size_output]))\n",
    "    \n",
    "    \n",
    "    \n",
    "    # Define variables to be updated during backpropagation\n",
    "    self.variables = [self.W1, self.W2, self.W3, self.W4, self.b1, self.b2, self.b3, self.b4]\n",
    "      \n",
    " def forward(self, X):\n",
    "    \"\"\"\n",
    "    forward pass\n",
    "    X: Tensor, inputs\n",
    "    \"\"\"\n",
    "    if self.device is not None:\n",
    "      with tf.device('gpu:0' if self.device=='gpu' else 'cpu'):\n",
    "        self.y = self.compute_output(X)\n",
    "    else:\n",
    "      self.y = self.compute_output(X)\n",
    "      \n",
    "    return self.y\n",
    "\n",
    " def loss(self, y_pred, y_true):\n",
    "    '''\n",
    "    y_pred - Tensor of shape (batch_size, size_output)\n",
    "    y_true - Tensor of shape (batch_size, size_output)\n",
    "    '''\n",
    "    #y_true_tf = tf.cast(tf.reshape(y_true, (-1, self.size_output)), dtype=tf.float32)\n",
    "    y_true_tf = tf.cast(y_true, dtype=tf.float32)\n",
    "    y_pred_tf = tf.cast(y_pred, dtype=tf.float32)\n",
    "    cce = tf.keras.losses.CategoricalCrossentropy(from_logits=True)\n",
    "    loss_x = cce(y_true_tf, y_pred_tf)\n",
    "    # Use keras or tf_softmax, both should work for any given model\n",
    "    #loss_x = tf.reduce_mean(tf.nn.softmax_cross_entropy_with_logits(logits=y_pred_tf, labels=y_true_tf))\n",
    "    \n",
    "    return loss_x\n",
    "\n",
    " def backward(self, X_train, y_train, opti):\n",
    "    \"\"\"\n",
    "    backward pass\n",
    "    \"\"\"\n",
    "    optimizer = opti\n",
    "    \n",
    "    with tf.GradientTape() as tape:\n",
    "        \n",
    "      predicted = self.forward(X_train)\n",
    "      current_loss = self.loss(predicted, y_train)\n",
    "        \n",
    "    grads = tape.gradient(current_loss, self.variables)\n",
    "    optimizer.apply_gradients(zip(grads, self.variables))\n",
    "           \n",
    " def compute_output(self, X):\n",
    "    \"\"\"\n",
    "    Custom method to obtain output tensor during forward pass\n",
    "    \"\"\"\n",
    "    # Cast X to float32\n",
    "    X_tf = tf.cast(X, dtype=tf.float32)\n",
    "    #X_tf = X\n",
    "    \n",
    "    # Compute values in hidden layers\n",
    "    z1 = tf.matmul(X_tf, self.W1) + self.b1\n",
    "    h1 = tf.nn.relu(z1)\n",
    "    \n",
    "    z2 = tf.matmul(h1, self.W2) + self.b2\n",
    "    h2 = tf.nn.relu(z2)\n",
    "    \n",
    "    z3 = tf.matmul(h2, self.W3) + self.b3\n",
    "    h3 = tf.nn.relu(z3)\n",
    "\n",
    "    # Compute output\n",
    "    output = tf.matmul(h3, self.W4) + self.b4\n",
    "    \n",
    "    #Now consider two things , First look at inbuild loss functions if they work with softmax or not and then change this \n",
    "    # Second add tf.Softmax(output) and then return this variable\n",
    "    return (output)\n",
    "\n",
    "#  def stderr(self,y_pred):\n",
    "#     \"\"\"\n",
    "#      Calculate standard error\n",
    "#      \"\"\"\n",
    "#     y_pred_tf = tf.cast(y_pred, dtype=tf.float32)\n",
    "#     std_dev = np.std(y_pred_tf) #Calculates standard deviation\n",
    "#     std_err = std_dev/sqrt(len(y_pred_tf))\n",
    "#     return std_err \n",
    "\n",
    "\n",
    "#  def var(self,y_pred):\n",
    "#     \"\"\"\n",
    "#      Calculate variance \n",
    "#      \"\"\"\n",
    "#     y_pred_tf = tf.cast(y_pred, dtype=tf.float32)\n",
    "#     std_dev = np.std(y_pred_tf) #Calculates standard deviation\n",
    "#     variance = (std_dev**2) # calculate variance\n",
    "#     return variance "
   ]
  },
  {
   "cell_type": "code",
   "execution_count": 31,
   "id": "01b29c6f",
   "metadata": {},
   "outputs": [
    {
     "name": "stdout",
     "output_type": "stream",
     "text": [
      "\n",
      "Train Accuracy: 0.6778\n",
      "Number of Epoch = 1 - Average Cross Entropy:= 0.004456470642089844 \n",
      "\n",
      "Validation Accuracy: 0.6730\n",
      "\n",
      "Train Accuracy: 0.6870\n",
      "Number of Epoch = 2 - Average Cross Entropy:= 0.003101185607910156 \n",
      "\n",
      "Validation Accuracy: 0.6768\n",
      "\n",
      "Train Accuracy: 0.6980\n",
      "Number of Epoch = 3 - Average Cross Entropy:= 0.0027502099609375 \n",
      "\n",
      "Validation Accuracy: 0.6824\n",
      "\n",
      "Train Accuracy: 0.7054\n",
      "Number of Epoch = 4 - Average Cross Entropy:= 0.0025086512756347656 \n",
      "\n",
      "Validation Accuracy: 0.6853\n",
      "\n",
      "Train Accuracy: 0.7153\n",
      "Number of Epoch = 5 - Average Cross Entropy:= 0.0023318910217285157 \n",
      "\n",
      "Validation Accuracy: 0.6974\n",
      "\n",
      "Train Accuracy: 0.6879\n",
      "Number of Epoch = 6 - Average Cross Entropy:= 0.002194954528808594 \n",
      "\n",
      "Validation Accuracy: 0.6632\n",
      "\n",
      "Train Accuracy: 0.7135\n",
      "Number of Epoch = 7 - Average Cross Entropy:= 0.002076390075683594 \n",
      "\n",
      "Validation Accuracy: 0.6920\n",
      "\n",
      "Train Accuracy: 0.7038\n",
      "Number of Epoch = 8 - Average Cross Entropy:= 0.0019550376892089843 \n",
      "\n",
      "Validation Accuracy: 0.6811\n",
      "\n",
      "Train Accuracy: 0.7170\n",
      "Number of Epoch = 9 - Average Cross Entropy:= 0.0018392228698730468 \n",
      "\n",
      "Validation Accuracy: 0.6953\n",
      "\n",
      "Train Accuracy: 0.6790\n",
      "Number of Epoch = 10 - Average Cross Entropy:= 0.0017571333312988281 \n",
      "\n",
      "Validation Accuracy: 0.6589\n",
      "\n",
      "Total time taken (in seconds): 77.09\n"
     ]
    },
    {
     "data": {
      "image/png": "[encoded data removed]",
      "text/plain": [
       "<Figure size 432x288 with 1 Axes>"
      ]
     },
     "metadata": {
      "needs_background": "light"
     },
     "output_type": "display_data"
    }
   ],
   "source": [
    "# Set number of epochs\n",
    "NUM_EPOCHS = 10\n",
    "\n",
    "# Initialize model using CPU\n",
    "mlp_on_cpu = MLP(size_input, size_hidden1, size_hidden2, size_hidden3, size_output, device='gpu')\n",
    "\n",
    "time_start = time.time()\n",
    "opti = tf.keras.optimizers.SGD(learning_rate = 0.1)\n",
    "for epoch in range(NUM_EPOCHS):\n",
    "    \n",
    "  loss_total = tf.zeros([1,1], dtype=tf.float32)\n",
    "  lt = 0\n",
    "    \n",
    "  train_ds = tf.data.Dataset.from_tensor_slices((X_train, y_train)).shuffle(25, seed=epoch*(1234)).batch(128)\n",
    "  #print(len(train_ds))\n",
    "  #print(train_ds)\n",
    "  kz = 0\n",
    "  accuracy_z = 0.0\n",
    "  cur_train_acc = 0.0\n",
    "  eps = 1e-9\n",
    "  for inputs, outputs in train_ds:\n",
    "    qw, tr = tf.shape(inputs)\n",
    "    #print(inputs)\n",
    "    mean, variance = tf.nn.moments(inputs,axes=[0,1])\n",
    "    inputs = (inputs-mean)/tf.sqrt(variance+eps)\n",
    "    kz = kz + 1\n",
    "    preds = mlp_on_cpu.forward(inputs) \n",
    "    loss_total = loss_total + mlp_on_cpu.loss(preds, outputs)\n",
    "    lt = lt + mlp_on_cpu.loss(preds, outputs)\n",
    "    mlp_on_cpu.backward(inputs, outputs, opti)\n",
    "\n",
    "  preds = mlp_on_cpu.forward(X_train)\n",
    "  # Get probs, remember we only have logits from our forward function, we need to apply softmax on top of it to get probs\n",
    "  preds = tf.nn.softmax(preds)\n",
    "  correct_prediction = tf.equal(tf.argmax(preds, 1), tf.argmax(y_train, 1))\n",
    "  accuracy_z = accuracy_z + tf.reduce_mean(tf.cast(correct_prediction, \"float\"))\n",
    "  cur_train_acc += accuracy_z.numpy()\n",
    "  ds = cur_train_acc\n",
    "  print('\\nTrain Accuracy: {:.4f}'.format(ds))\n",
    "  print('Number of Epoch = {} - Average Cross Entropy:= {} '.format(epoch + 1, np.sum(loss_total) / X_train.shape[0]))\n",
    "  preds_val = mlp_on_cpu.forward(X_val)\n",
    "  preds_val = tf.nn.softmax(preds_val)\n",
    "  correct_prediction = tf.equal(tf.argmax(preds_val, 1), tf.argmax(y_val, 1))\n",
    "\n",
    "  # Calculate accuracy\n",
    "  accuracy = tf.reduce_mean(tf.cast(correct_prediction, \"float\"))\n",
    "  cur_val_acc = accuracy.numpy()\n",
    "\n",
    "  print('\\nValidation Accuracy: {:.4f}'.format(cur_val_acc))\n",
    "  \n",
    "  plt.plot(epoch + 1, np.sum(loss_total) / X_train.shape[0], 'go')\n",
    "\n",
    "        \n",
    "time_taken = time.time() - time_start\n",
    "    \n",
    "# Validate model\n",
    "    \n",
    "\n",
    "\n",
    "print('\\nTotal time taken (in seconds): {:.2f}'.format(time_taken))\n",
    "#For per epoch_time = Total_Time / Number_of_epochs"
   ]
  },
  {
   "cell_type": "code",
   "execution_count": null,
   "id": "4265a15d",
   "metadata": {},
   "outputs": [],
   "source": []
  },
  {
   "cell_type": "code",
   "execution_count": null,
   "id": "00077edc",
   "metadata": {},
   "outputs": [],
   "source": []
  }
 ],
 "metadata": {
  "kernelspec": {
   "display_name": "Python 3 (ipykernel)",
   "language": "python",
   "name": "python3"
  },
  "language_info": {
   "codemirror_mode": {
    "name": "ipython",
    "version": 3
   },
   "file_extension": ".py",
   "mimetype": "text/x-python",
   "name": "python",
   "nbconvert_exporter": "python",
   "pygments_lexer": "ipython3",
   "version": "3.9.7"
  }
 },
 "nbformat": 4,
 "nbformat_minor": 5
}
